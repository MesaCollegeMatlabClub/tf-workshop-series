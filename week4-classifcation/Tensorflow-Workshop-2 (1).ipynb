{
 "cells": [
  {
   "cell_type": "markdown",
   "metadata": {},
   "source": [
    "## Logistic Regression Example\n",
    "\n",
    "This is a demonstration of logistic regression using Tensorflow on the MNIST data set. The MNIST data set is a database of many handwritten digits (0 - 9).\n",
    "\n",
    "From a programming point of view, it is hard to define a set of rules to tell handwritten digits apart. For example, 4's can look a lot like 9's, 7's and look a lot like 1's, etc. \n",
    "\n",
    "However, this can be formulated as a classification problem and solved using logistic regression!\n"
   ]
  },
  {
   "cell_type": "markdown",
   "metadata": {},
   "source": [
    "#### Let's start with the easy stuff:\n"
   ]
  },
  {
   "cell_type": "code",
   "execution_count": 17,
   "metadata": {},
   "outputs": [
    {
     "name": "stdout",
     "output_type": "stream",
     "text": [
      "Extracting MNIST_data/train-images-idx3-ubyte.gz\n",
      "Extracting MNIST_data/train-labels-idx1-ubyte.gz\n",
      "Extracting MNIST_data/t10k-images-idx3-ubyte.gz\n",
      "Extracting MNIST_data/t10k-labels-idx1-ubyte.gz\n"
     ]
    }
   ],
   "source": [
    "from draw import Paint\n",
    "import tensorflow as tf\n",
    "\n",
    "# Import MINST data\n",
    "from tensorflow.examples.tutorials.mnist import input_data\n",
    "mnist = input_data.read_data_sets(\"MNIST_data/\", one_hot=True)"
   ]
  },
  {
   "cell_type": "markdown",
   "metadata": {},
   "source": [
    "### Activation Function: Softmax\n",
    "Before we get into creating our logistic regression model, recall from the slides that logistic regression is simply a perceptron with an activation function applied to it. In the slides, we learned about the sigmoid function, which gives us the probability of a particular data point being in class 0 or class 1. In the case of MNIST, we have 10 classes instead of 2, so we need to use a different activation function known as softmax. "
   ]
  },
  {
   "cell_type": "code",
   "execution_count": 18,
   "metadata": {
    "collapsed": true
   },
   "outputs": [],
   "source": [
    "# Parameters\n",
    "learning_rate = 0.01\n",
    "training_epochs = 25\n",
    "batch_size = 100\n",
    "display_step = 1\n",
    "\n",
    "# tf Graph Input\n",
    "x = tf.placeholder(tf.float32, [None, 784]) # mnist data image of shape 28*28=784\n",
    "y = tf.placeholder(tf.float32, [None, 10]) # 0-9 digits recognition => 10 classes\n",
    "\n",
    "# Set model weights\n",
    "W = tf.Variable(tf.zeros([784, 10]))\n",
    "b = tf.Variable(tf.zeros([10]))\n",
    "\n",
    "# Construct model\n",
    "pred = tf.nn.softmax(tf.matmul(x, W) + b) # Softmax"
   ]
  },
  {
   "cell_type": "markdown",
   "metadata": {},
   "source": [
    "### Cost Function: Cross Entropy\n",
    "\n",
    "### Optimization Strategy: Gradient Descent"
   ]
  },
  {
   "cell_type": "code",
   "execution_count": 19,
   "metadata": {
    "collapsed": true
   },
   "outputs": [],
   "source": [
    "# Minimize error using cross entropy\n",
    "cost = tf.reduce_mean(-tf.reduce_sum(y*tf.log(pred), reduction_indices=1))\n",
    "# Gradient Descent\n",
    "optimizer = tf.train.GradientDescentOptimizer(learning_rate).minimize(cost)\n",
    "\n",
    "# Initializing the variables\n",
    "init = tf.global_variables_initializer()"
   ]
  },
  {
   "cell_type": "code",
   "execution_count": 20,
   "metadata": {},
   "outputs": [
    {
     "name": "stdout",
     "output_type": "stream",
     "text": [
      "Epoch: 0001 cost= 1.182138977\n",
      "Epoch: 0002 cost= 0.664759223\n",
      "Epoch: 0003 cost= 0.552638328\n",
      "Epoch: 0004 cost= 0.498615858\n",
      "Epoch: 0005 cost= 0.465457017\n",
      "Epoch: 0006 cost= 0.442535357\n",
      "Epoch: 0007 cost= 0.425461401\n",
      "Epoch: 0008 cost= 0.412128329\n",
      "Epoch: 0009 cost= 0.401356133\n",
      "Epoch: 0010 cost= 0.392345773\n",
      "Epoch: 0011 cost= 0.384765235\n",
      "Epoch: 0012 cost= 0.378190474\n",
      "Epoch: 0013 cost= 0.372349634\n",
      "Epoch: 0014 cost= 0.367285085\n",
      "Epoch: 0015 cost= 0.362671895\n",
      "Epoch: 0016 cost= 0.358585354\n",
      "Epoch: 0017 cost= 0.354788907\n",
      "Epoch: 0018 cost= 0.351481237\n",
      "Epoch: 0019 cost= 0.348252903\n",
      "Epoch: 0020 cost= 0.345438889\n",
      "Epoch: 0021 cost= 0.342731637\n",
      "Epoch: 0022 cost= 0.340255581\n",
      "Epoch: 0023 cost= 0.337843733\n",
      "Epoch: 0024 cost= 0.335727720\n",
      "Epoch: 0025 cost= 0.333675842\n",
      "Optimization Finished!\n",
      "Accuracy: 0.889\n"
     ]
    }
   ],
   "source": [
    "# Launch the graph\n",
    "sess = tf.Session()\n",
    "sess.as_default()\n",
    "sess.run(init)\n",
    "\n",
    "# Training cycle\n",
    "for epoch in range(training_epochs):\n",
    "    avg_cost = 0.\n",
    "    total_batch = int(mnist.train.num_examples/batch_size)\n",
    "    # Loop over all batches\n",
    "    for i in range(total_batch):\n",
    "        batch_xs, batch_ys = mnist.train.next_batch(batch_size)\n",
    "        # Fit training using batch data\n",
    "        _, c = sess.run([optimizer, cost], feed_dict={x: batch_xs,\n",
    "                                                      y: batch_ys})\n",
    "        # Compute average loss\n",
    "        avg_cost += c / total_batch\n",
    "    # Display logs per epoch step\n",
    "    if (epoch+1) % display_step == 0:\n",
    "        print \"Epoch:\", '%04d' % (epoch+1), \"cost=\", \"{:.9f}\".format(avg_cost)\n",
    "\n",
    "print \"Optimization Finished!\"\n",
    "# Test model\n",
    "correct_prediction = tf.equal(tf.argmax(pred, 1), tf.argmax(y, 1))\n",
    "# Calculate accuracy for 3000 examples\n",
    "accuracy = tf.reduce_mean(tf.cast(correct_prediction, tf.float32))\n",
    "print \"Accuracy:\", accuracy.eval({x: mnist.test.images[:3000], y: mnist.test.labels[:3000]}, session=sess)\n",
    "\n",
    "# Save Model\n",
    "saver = tf.train.Saver()\n",
    "saver.save(sess, \"model.ckpt\")\n",
    "\n",
    "sess.close()"
   ]
  }
 ],
 "metadata": {
  "kernelspec": {
   "display_name": "Python 2",
   "language": "python",
   "name": "python2"
  },
  "language_info": {
   "codemirror_mode": {
    "name": "ipython",
    "version": 2
   },
   "file_extension": ".py",
   "mimetype": "text/x-python",
   "name": "python",
   "nbconvert_exporter": "python",
   "pygments_lexer": "ipython2",
   "version": "2.7.10"
  }
 },
 "nbformat": 4,
 "nbformat_minor": 2
}
