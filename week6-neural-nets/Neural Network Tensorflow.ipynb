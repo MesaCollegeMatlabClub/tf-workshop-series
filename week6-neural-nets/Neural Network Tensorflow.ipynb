{
 "cells": [
  {
   "cell_type": "code",
   "execution_count": 8,
   "metadata": {
    "collapsed": false,
    "deletable": true,
    "editable": true
   },
   "outputs": [
    {
     "name": "stdout",
     "output_type": "stream",
     "text": [
      "Extracting MNIST_data/train-images-idx3-ubyte.gz\n",
      "Extracting MNIST_data/train-labels-idx1-ubyte.gz\n",
      "Extracting MNIST_data/t10k-images-idx3-ubyte.gz\n",
      "Extracting MNIST_data/t10k-labels-idx1-ubyte.gz\n"
     ]
    }
   ],
   "source": [
    "import tensorflow as tf\n",
    "import numpy as np\n",
    "import matplotlib.pyplot as plt\n",
    "\n",
    "from tensorflow.examples.tutorials.mnist import input_data\n",
    "mnist = input_data.read_data_sets('MNIST_data', one_hot=True) # reads in the MNIST dataset\n",
    "\n",
    "# todo - visualize with matplotlib"
   ]
  },
  {
   "cell_type": "code",
   "execution_count": 9,
   "metadata": {
    "collapsed": true,
    "deletable": true,
    "editable": true
   },
   "outputs": [],
   "source": [
    "# some functions for quick variable creation\n",
    "def weight_variable(shape):\n",
    "    return tf.Variable(tf.truncated_normal(shape, stddev = 0.1))\n",
    "\n",
    "def bias_variable(shape):\n",
    "    return tf.Variable(tf.constant(0.1, shape = shape))\n",
    "\n",
    "# hyperparameters we will use\n",
    "learning_rate = 0.1\n",
    "hidden_layer_neurons = 50\n",
    "num_iterations = 5000\n",
    "\n",
    "# placeholder variables\n",
    "x = tf.placeholder(tf.float32, shape = [None, 784])\n",
    "y_ = tf.placeholder(tf.float32, shape = [None, 10])"
   ]
  },
  {
   "cell_type": "code",
   "execution_count": 10,
   "metadata": {
    "collapsed": false,
    "deletable": true,
    "editable": true
   },
   "outputs": [],
   "source": [
    "W_1, b_1 = weight_variable([784, hidden_layer_neurons]), bias_variable([hidden_layer_neurons])\n",
    "h_1 = tf.nn.relu(tf.matmul(x, W_1) + b_1)\n",
    "\n",
    "W_2, b_2 = weight_variable([hidden_layer_neurons, 10]), bias_variable([10])\n",
    "y = tf.matmul(h_1,W_2) + b_2\n",
    "\n",
    "cross_entropy_loss = tf.reduce_mean(tf.nn.softmax_cross_entropy_with_logits(labels = y_, logits = y))\n",
    "optimizer = tf.train.GradientDescentOptimizer(learning_rate).minimize(cross_entropy_loss)\n",
    "\n",
    "correct_predictions = tf.equal(tf.argmax(y, 1), tf.argmax(y_, 1))\n",
    "accuracy = tf.reduce_mean(tf.cast(correct_predictions, tf.float32))\n",
    "\n",
    "init = tf.global_variables_initializer()"
   ]
  },
  {
   "cell_type": "code",
   "execution_count": 12,
   "metadata": {
    "collapsed": false
   },
   "outputs": [
    {
     "name": "stdout",
     "output_type": "stream",
     "text": [
      "Epoch: 0, accuracy: 0.14000000059604645, loss: 2.3299803733825684\n",
      "Epoch: 100, accuracy: 0.9200000166893005, loss: 0.4977797567844391\n",
      "Epoch: 200, accuracy: 0.9399999976158142, loss: 0.27992257475852966\n",
      "Epoch: 300, accuracy: 0.9100000262260437, loss: 0.35528168082237244\n",
      "Epoch: 400, accuracy: 0.8899999856948853, loss: 0.3199089765548706\n",
      "Epoch: 500, accuracy: 0.8700000047683716, loss: 0.4795476794242859\n",
      "Epoch: 600, accuracy: 0.9100000262260437, loss: 0.38973376154899597\n",
      "Epoch: 700, accuracy: 0.9399999976158142, loss: 0.20686715841293335\n",
      "Epoch: 800, accuracy: 0.949999988079071, loss: 0.15483790636062622\n",
      "Epoch: 900, accuracy: 0.9300000071525574, loss: 0.24882617592811584\n",
      "Epoch: 1000, accuracy: 0.949999988079071, loss: 0.24381370842456818\n",
      "Epoch: 1100, accuracy: 0.9399999976158142, loss: 0.2687549293041229\n",
      "Epoch: 1200, accuracy: 0.9200000166893005, loss: 0.27890339493751526\n",
      "Epoch: 1300, accuracy: 0.949999988079071, loss: 0.15327440202236176\n",
      "Epoch: 1400, accuracy: 0.9399999976158142, loss: 0.16377031803131104\n",
      "Epoch: 1500, accuracy: 0.9100000262260437, loss: 0.19622203707695007\n",
      "Epoch: 1600, accuracy: 0.949999988079071, loss: 0.23580190539360046\n",
      "Epoch: 1700, accuracy: 0.9700000286102295, loss: 0.09991699457168579\n",
      "Epoch: 1800, accuracy: 0.949999988079071, loss: 0.13519373536109924\n",
      "Epoch: 1900, accuracy: 0.9599999785423279, loss: 0.10898663848638535\n",
      "Epoch: 2000, accuracy: 0.9800000190734863, loss: 0.09003446251153946\n",
      "Epoch: 2100, accuracy: 0.9700000286102295, loss: 0.12941330671310425\n",
      "Epoch: 2200, accuracy: 0.9399999976158142, loss: 0.18961574137210846\n",
      "Epoch: 2300, accuracy: 0.949999988079071, loss: 0.16774754226207733\n",
      "Epoch: 2400, accuracy: 0.9599999785423279, loss: 0.15307165682315826\n",
      "Epoch: 2500, accuracy: 1.0, loss: 0.08116310834884644\n",
      "Epoch: 2600, accuracy: 0.9399999976158142, loss: 0.13118061423301697\n",
      "Epoch: 2700, accuracy: 0.9800000190734863, loss: 0.11955345422029495\n",
      "Epoch: 2800, accuracy: 0.9599999785423279, loss: 0.13868695497512817\n",
      "Epoch: 2900, accuracy: 0.9100000262260437, loss: 0.2262033075094223\n",
      "Epoch: 3000, accuracy: 0.9900000095367432, loss: 0.07603944092988968\n",
      "Epoch: 3100, accuracy: 0.9700000286102295, loss: 0.11356109380722046\n",
      "Epoch: 3200, accuracy: 0.9599999785423279, loss: 0.14545145630836487\n",
      "Epoch: 3300, accuracy: 0.9700000286102295, loss: 0.11032648384571075\n",
      "Epoch: 3400, accuracy: 0.9700000286102295, loss: 0.07824304699897766\n",
      "Epoch: 3500, accuracy: 0.9700000286102295, loss: 0.09587560594081879\n",
      "Epoch: 3600, accuracy: 0.9700000286102295, loss: 0.11894842237234116\n",
      "Epoch: 3700, accuracy: 0.9599999785423279, loss: 0.10888749361038208\n",
      "Epoch: 3800, accuracy: 1.0, loss: 0.05603652074933052\n",
      "Epoch: 3900, accuracy: 0.9800000190734863, loss: 0.05625931918621063\n",
      "Epoch: 4000, accuracy: 0.9399999976158142, loss: 0.16333484649658203\n",
      "Epoch: 4100, accuracy: 0.9800000190734863, loss: 0.0871940329670906\n",
      "Epoch: 4200, accuracy: 0.9800000190734863, loss: 0.06955119222402573\n",
      "Epoch: 4300, accuracy: 0.9599999785423279, loss: 0.1427161544561386\n",
      "Epoch: 4400, accuracy: 0.9700000286102295, loss: 0.19655846059322357\n",
      "Epoch: 4500, accuracy: 0.9800000190734863, loss: 0.0796545147895813\n",
      "Epoch: 4600, accuracy: 0.9599999785423279, loss: 0.13848170638084412\n",
      "Epoch: 4700, accuracy: 0.9900000095367432, loss: 0.06271424889564514\n",
      "Epoch: 4800, accuracy: 0.9700000286102295, loss: 0.13475055992603302\n",
      "Epoch: 4900, accuracy: 0.9700000286102295, loss: 0.11460073292255402\n",
      "testing accuracy: 0.9598000049591064\n"
     ]
    }
   ],
   "source": [
    "with tf.Session() as sess:\n",
    "    sess.run(init)\n",
    "    for i in range(num_iterations):\n",
    "        batch = mnist.train.next_batch(100)\n",
    "        optimizer.run(feed_dict = {x: batch[0], y_: batch[1]})\n",
    "        if i % 100 == 0:\n",
    "            acc = accuracy.eval(feed_dict = {x: batch[0], y_: batch[1]})\n",
    "            loss = cross_entropy_loss.eval(feed_dict = {x: batch[0], y_: batch[1]})\n",
    "            print(\"Epoch: {}, accuracy: {}, loss: {}\".format(i, acc, loss))\n",
    "    acc = accuracy.eval(feed_dict = {x: mnist.test.images, y_: mnist.test.labels})\n",
    "    print(\"testing accuracy: {}\".format(acc))\n",
    "        "
   ]
  },
  {
   "cell_type": "markdown",
   "metadata": {},
   "source": [
    "### Exercises\n",
    "1. Using different activation functions\n",
    "2. Varying the number of neurons\n",
    "3. Using different loss functiosn\n",
    "4. Addition of another hidden layer\n",
    "\n",
    "### More\n",
    "5. Adding dropout\n",
    "6. Using momentum optimization or other optimizers\n",
    "7. Decaying learning rate\n",
    "8. L2-regularization\n"
   ]
  },
  {
   "cell_type": "code",
   "execution_count": null,
   "metadata": {
    "collapsed": true
   },
   "outputs": [],
   "source": []
  }
 ],
 "metadata": {
  "kernelspec": {
   "display_name": "Python 3",
   "language": "python",
   "name": "python3"
  },
  "language_info": {
   "codemirror_mode": {
    "name": "ipython",
    "version": 3
   },
   "file_extension": ".py",
   "mimetype": "text/x-python",
   "name": "python",
   "nbconvert_exporter": "python",
   "pygments_lexer": "ipython3",
   "version": "3.5.0"
  }
 },
 "nbformat": 4,
 "nbformat_minor": 2
}
